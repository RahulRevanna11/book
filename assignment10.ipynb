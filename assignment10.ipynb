{
 "cells": [
  {
   "cell_type": "code",
   "execution_count": 2,
   "metadata": {},
   "outputs": [],
   "source": [
    "import gym\n",
    "import time"
   ]
  },
  {
   "cell_type": "code",
   "execution_count": 3,
   "metadata": {},
   "outputs": [],
   "source": [
    "env = gym.make('MountainCar-v0', render_mode='rgb_array')"
   ]
  },
  {
   "cell_type": "code",
   "execution_count": 4,
   "metadata": {},
   "outputs": [
    {
     "name": "stdout",
     "output_type": "stream",
     "text": [
      "The observation space: Box([-1.2  -0.07], [0.6  0.07], (2,), float32)\n",
      "The action space: Discrete(3)\n"
     ]
    }
   ],
   "source": [
    "# Observation and action space\n",
    "obs_space = env.observation_space\n",
    "action_space = env.action_space\n",
    "print(f\"The observation space: {obs_space}\")\n",
    "print(f\"The action space: {action_space}\")"
   ]
  },
  {
   "cell_type": "code",
   "execution_count": 6,
   "metadata": {},
   "outputs": [],
   "source": [
    "import warnings\n",
    "warnings.filterwarnings(\"ignore\")\n"
   ]
  },
  {
   "cell_type": "code",
   "execution_count": 7,
   "metadata": {},
   "outputs": [
    {
     "name": "stdout",
     "output_type": "stream",
     "text": [
      "The intial observation is (array([-0.43551907,  0.        ], dtype=float32), {})\n",
      "The new observation is: [-0.437172   -0.00165294]\n"
     ]
    }
   ],
   "source": [
    "import matplotlib.pyplot as plt\n",
    "\n",
    "obs = env.reset()\n",
    "print(f\"The intial observation is {obs}\")\n",
    "\n",
    "random_action = env.action_space.sample()\n",
    "\n",
    "new_obs, reward, done, truncated, info = env.step(random_action)\n",
    "print(f\"The new observation is: {new_obs}\")"
   ]
  },
  {
   "cell_type": "code",
   "execution_count": 9,
   "metadata": {},
   "outputs": [
    {
     "ename": "DependencyNotInstalled",
     "evalue": "pygame is not installed, run `pip install gym[classic_control]`",
     "output_type": "error",
     "traceback": [
      "\u001b[1;31m---------------------------------------------------------------------------\u001b[0m",
      "\u001b[1;31mModuleNotFoundError\u001b[0m                       Traceback (most recent call last)",
      "File \u001b[1;32mc:\\Python311\\Lib\\site-packages\\gym\\envs\\classic_control\\mountain_car.py:179\u001b[0m, in \u001b[0;36mMountainCarEnv.render\u001b[1;34m(self)\u001b[0m\n\u001b[0;32m    178\u001b[0m \u001b[38;5;28;01mtry\u001b[39;00m:\n\u001b[1;32m--> 179\u001b[0m     \u001b[38;5;28;01mimport\u001b[39;00m \u001b[38;5;21;01mpygame\u001b[39;00m\n\u001b[0;32m    180\u001b[0m     \u001b[38;5;28;01mfrom\u001b[39;00m \u001b[38;5;21;01mpygame\u001b[39;00m \u001b[38;5;28;01mimport\u001b[39;00m gfxdraw\n",
      "\u001b[1;31mModuleNotFoundError\u001b[0m: No module named 'pygame'",
      "\nDuring handling of the above exception, another exception occurred:\n",
      "\u001b[1;31mDependencyNotInstalled\u001b[0m                    Traceback (most recent call last)",
      "Cell \u001b[1;32mIn[9], line 1\u001b[0m\n\u001b[1;32m----> 1\u001b[0m env_screen \u001b[38;5;241m=\u001b[39m \u001b[43menv\u001b[49m\u001b[38;5;241;43m.\u001b[39;49m\u001b[43mrender\u001b[49m\u001b[43m(\u001b[49m\u001b[43m)\u001b[49m\n\u001b[0;32m      2\u001b[0m plt\u001b[38;5;241m.\u001b[39mimshow(env_screen)\n",
      "File \u001b[1;32mc:\\Python311\\Lib\\site-packages\\gym\\core.py:329\u001b[0m, in \u001b[0;36mWrapper.render\u001b[1;34m(self, *args, **kwargs)\u001b[0m\n\u001b[0;32m    325\u001b[0m \u001b[38;5;28;01mdef\u001b[39;00m \u001b[38;5;21mrender\u001b[39m(\n\u001b[0;32m    326\u001b[0m     \u001b[38;5;28mself\u001b[39m, \u001b[38;5;241m*\u001b[39margs, \u001b[38;5;241m*\u001b[39m\u001b[38;5;241m*\u001b[39mkwargs\n\u001b[0;32m    327\u001b[0m ) \u001b[38;5;241m-\u001b[39m\u001b[38;5;241m>\u001b[39m Optional[Union[RenderFrame, List[RenderFrame]]]:\n\u001b[0;32m    328\u001b[0m \u001b[38;5;250m    \u001b[39m\u001b[38;5;124;03m\"\"\"Renders the environment.\"\"\"\u001b[39;00m\n\u001b[1;32m--> 329\u001b[0m     \u001b[38;5;28;01mreturn\u001b[39;00m \u001b[38;5;28;43mself\u001b[39;49m\u001b[38;5;241;43m.\u001b[39;49m\u001b[43menv\u001b[49m\u001b[38;5;241;43m.\u001b[39;49m\u001b[43mrender\u001b[49m\u001b[43m(\u001b[49m\u001b[38;5;241;43m*\u001b[39;49m\u001b[43margs\u001b[49m\u001b[43m,\u001b[49m\u001b[43m \u001b[49m\u001b[38;5;241;43m*\u001b[39;49m\u001b[38;5;241;43m*\u001b[39;49m\u001b[43mkwargs\u001b[49m\u001b[43m)\u001b[49m\n",
      "File \u001b[1;32mc:\\Python311\\Lib\\site-packages\\gym\\wrappers\\order_enforcing.py:51\u001b[0m, in \u001b[0;36mOrderEnforcing.render\u001b[1;34m(self, *args, **kwargs)\u001b[0m\n\u001b[0;32m     46\u001b[0m \u001b[38;5;28;01mif\u001b[39;00m \u001b[38;5;129;01mnot\u001b[39;00m \u001b[38;5;28mself\u001b[39m\u001b[38;5;241m.\u001b[39m_disable_render_order_enforcing \u001b[38;5;129;01mand\u001b[39;00m \u001b[38;5;129;01mnot\u001b[39;00m \u001b[38;5;28mself\u001b[39m\u001b[38;5;241m.\u001b[39m_has_reset:\n\u001b[0;32m     47\u001b[0m     \u001b[38;5;28;01mraise\u001b[39;00m ResetNeeded(\n\u001b[0;32m     48\u001b[0m         \u001b[38;5;124m\"\u001b[39m\u001b[38;5;124mCannot call `env.render()` before calling `env.reset()`, if this is a intended action, \u001b[39m\u001b[38;5;124m\"\u001b[39m\n\u001b[0;32m     49\u001b[0m         \u001b[38;5;124m\"\u001b[39m\u001b[38;5;124mset `disable_render_order_enforcing=True` on the OrderEnforcer wrapper.\u001b[39m\u001b[38;5;124m\"\u001b[39m\n\u001b[0;32m     50\u001b[0m     )\n\u001b[1;32m---> 51\u001b[0m \u001b[38;5;28;01mreturn\u001b[39;00m \u001b[38;5;28;43mself\u001b[39;49m\u001b[38;5;241;43m.\u001b[39;49m\u001b[43menv\u001b[49m\u001b[38;5;241;43m.\u001b[39;49m\u001b[43mrender\u001b[49m\u001b[43m(\u001b[49m\u001b[38;5;241;43m*\u001b[39;49m\u001b[43margs\u001b[49m\u001b[43m,\u001b[49m\u001b[43m \u001b[49m\u001b[38;5;241;43m*\u001b[39;49m\u001b[38;5;241;43m*\u001b[39;49m\u001b[43mkwargs\u001b[49m\u001b[43m)\u001b[49m\n",
      "File \u001b[1;32mc:\\Python311\\Lib\\site-packages\\gym\\wrappers\\env_checker.py:55\u001b[0m, in \u001b[0;36mPassiveEnvChecker.render\u001b[1;34m(self, *args, **kwargs)\u001b[0m\n\u001b[0;32m     53\u001b[0m     \u001b[38;5;28;01mreturn\u001b[39;00m env_render_passive_checker(\u001b[38;5;28mself\u001b[39m\u001b[38;5;241m.\u001b[39menv, \u001b[38;5;241m*\u001b[39margs, \u001b[38;5;241m*\u001b[39m\u001b[38;5;241m*\u001b[39mkwargs)\n\u001b[0;32m     54\u001b[0m \u001b[38;5;28;01melse\u001b[39;00m:\n\u001b[1;32m---> 55\u001b[0m     \u001b[38;5;28;01mreturn\u001b[39;00m \u001b[38;5;28;43mself\u001b[39;49m\u001b[38;5;241;43m.\u001b[39;49m\u001b[43menv\u001b[49m\u001b[38;5;241;43m.\u001b[39;49m\u001b[43mrender\u001b[49m\u001b[43m(\u001b[49m\u001b[38;5;241;43m*\u001b[39;49m\u001b[43margs\u001b[49m\u001b[43m,\u001b[49m\u001b[43m \u001b[49m\u001b[38;5;241;43m*\u001b[39;49m\u001b[38;5;241;43m*\u001b[39;49m\u001b[43mkwargs\u001b[49m\u001b[43m)\u001b[49m\n",
      "File \u001b[1;32mc:\\Python311\\Lib\\site-packages\\gym\\envs\\classic_control\\mountain_car.py:182\u001b[0m, in \u001b[0;36mMountainCarEnv.render\u001b[1;34m(self)\u001b[0m\n\u001b[0;32m    180\u001b[0m     \u001b[38;5;28;01mfrom\u001b[39;00m \u001b[38;5;21;01mpygame\u001b[39;00m \u001b[38;5;28;01mimport\u001b[39;00m gfxdraw\n\u001b[0;32m    181\u001b[0m \u001b[38;5;28;01mexcept\u001b[39;00m \u001b[38;5;167;01mImportError\u001b[39;00m:\n\u001b[1;32m--> 182\u001b[0m     \u001b[38;5;28;01mraise\u001b[39;00m DependencyNotInstalled(\n\u001b[0;32m    183\u001b[0m         \u001b[38;5;124m\"\u001b[39m\u001b[38;5;124mpygame is not installed, run `pip install gym[classic_control]`\u001b[39m\u001b[38;5;124m\"\u001b[39m\n\u001b[0;32m    184\u001b[0m     )\n\u001b[0;32m    186\u001b[0m \u001b[38;5;28;01mif\u001b[39;00m \u001b[38;5;28mself\u001b[39m\u001b[38;5;241m.\u001b[39mscreen \u001b[38;5;129;01mis\u001b[39;00m \u001b[38;5;28;01mNone\u001b[39;00m:\n\u001b[0;32m    187\u001b[0m     pygame\u001b[38;5;241m.\u001b[39minit()\n",
      "\u001b[1;31mDependencyNotInstalled\u001b[0m: pygame is not installed, run `pip install gym[classic_control]`"
     ]
    }
   ],
   "source": [
    "env_screen = env.render()\n",
    "plt.imshow(env_screen)"
   ]
  },
  {
   "cell_type": "markdown",
   "metadata": {},
   "source": [
    "Complete code for a trail run"
   ]
  },
  {
   "cell_type": "code",
   "execution_count": null,
   "metadata": {},
   "outputs": [
    {
     "name": "stdout",
     "output_type": "stream",
     "text": [
      "Step-> 0 and Action  0\n",
      "Step-> 1 and Action  0\n",
      "Step-> 2 and Action  0\n",
      "Step-> 3 and Action  0\n",
      "Step-> 4 and Action  1\n",
      "Step-> 5 and Action  1\n",
      "Step-> 6 and Action  0\n",
      "Step-> 7 and Action  0\n",
      "Step-> 8 and Action  0\n",
      "Step-> 9 and Action  2\n",
      "Step-> 10 and Action  0\n",
      "Step-> 11 and Action  1\n",
      "Step-> 12 and Action  0\n",
      "Step-> 13 and Action  0\n",
      "Step-> 14 and Action  1\n",
      "Step-> 15 and Action  0\n",
      "Step-> 16 and Action  2\n",
      "Step-> 17 and Action  1\n",
      "Step-> 18 and Action  2\n",
      "Step-> 19 and Action  2\n",
      "Step-> 20 and Action  2\n",
      "Step-> 21 and Action  2\n",
      "Step-> 22 and Action  0\n",
      "Step-> 23 and Action  2\n",
      "Step-> 24 and Action  2\n",
      "Step-> 25 and Action  0\n",
      "Step-> 26 and Action  2\n",
      "Step-> 27 and Action  1\n",
      "Step-> 28 and Action  2\n",
      "Step-> 29 and Action  2\n",
      "Step-> 30 and Action  2\n",
      "Step-> 31 and Action  1\n",
      "Step-> 32 and Action  2\n",
      "Step-> 33 and Action  2\n",
      "Step-> 34 and Action  2\n",
      "Step-> 35 and Action  1\n",
      "Step-> 36 and Action  1\n",
      "Step-> 37 and Action  1\n",
      "Step-> 38 and Action  0\n",
      "Step-> 39 and Action  1\n",
      "Step-> 40 and Action  1\n",
      "Step-> 41 and Action  0\n",
      "Step-> 42 and Action  0\n",
      "Step-> 43 and Action  2\n",
      "Step-> 44 and Action  1\n",
      "Step-> 45 and Action  2\n",
      "Step-> 46 and Action  2\n",
      "Step-> 47 and Action  2\n",
      "Step-> 48 and Action  2\n",
      "Step-> 49 and Action  0\n",
      "Step-> 50 and Action  2\n",
      "Step-> 51 and Action  1\n",
      "Step-> 52 and Action  2\n",
      "Step-> 53 and Action  2\n",
      "Step-> 54 and Action  2\n",
      "Step-> 55 and Action  0\n",
      "Step-> 56 and Action  0\n",
      "Step-> 57 and Action  1\n",
      "Step-> 58 and Action  1\n",
      "Step-> 59 and Action  0\n",
      "Step-> 60 and Action  2\n",
      "Step-> 61 and Action  0\n",
      "Step-> 62 and Action  0\n",
      "Step-> 63 and Action  2\n",
      "Step-> 64 and Action  0\n",
      "Step-> 65 and Action  1\n",
      "Step-> 66 and Action  2\n",
      "Step-> 67 and Action  1\n",
      "Step-> 68 and Action  0\n",
      "Step-> 69 and Action  1\n",
      "Step-> 70 and Action  1\n",
      "Step-> 71 and Action  1\n",
      "Step-> 72 and Action  2\n",
      "Step-> 73 and Action  2\n",
      "Step-> 74 and Action  1\n",
      "Step-> 75 and Action  1\n",
      "Step-> 76 and Action  0\n",
      "Step-> 77 and Action  2\n",
      "Step-> 78 and Action  2\n",
      "Step-> 79 and Action  1\n",
      "Step-> 80 and Action  2\n",
      "Step-> 81 and Action  0\n",
      "Step-> 82 and Action  0\n",
      "Step-> 83 and Action  0\n",
      "Step-> 84 and Action  2\n",
      "Step-> 85 and Action  1\n",
      "Step-> 86 and Action  2\n",
      "Step-> 87 and Action  1\n",
      "Step-> 88 and Action  0\n",
      "Step-> 89 and Action  2\n",
      "Step-> 90 and Action  2\n",
      "Step-> 91 and Action  2\n",
      "Step-> 92 and Action  0\n",
      "Step-> 93 and Action  1\n",
      "Step-> 94 and Action  1\n",
      "Step-> 95 and Action  1\n",
      "Step-> 96 and Action  1\n",
      "Step-> 97 and Action  2\n",
      "Step-> 98 and Action  1\n",
      "Step-> 99 and Action  2\n"
     ]
    }
   ],
   "source": [
    "import time\n",
    "import gym\n",
    "\n",
    "env = gym.make('MountainCar-v0', render_mode='human')\n",
    "num_steps = 100\n",
    "obs = env.reset()\n",
    "for step in range(num_steps):\n",
    "    action = env.action_space.sample()\n",
    "    obs, reward, done, terminated, info = env.step(action)\n",
    "\n",
    "    env.render()\n",
    "\n",
    "    print(\"Step->\",step,\"and Action \",action)\n",
    "    time.sleep(0.001)\n",
    "\n",
    "    if done:\n",
    "        env.reset()\n",
    "\n",
    "env.close()"
   ]
  },
  {
   "cell_type": "markdown",
   "metadata": {},
   "source": [
    "Spaces"
   ]
  },
  {
   "cell_type": "code",
   "execution_count": null,
   "metadata": {},
   "outputs": [
    {
     "name": "stdout",
     "output_type": "stream",
     "text": [
      "Upper Bound for Env Observation: [0.6  0.07]\n",
      "Lower Bound for Env Observation: [-1.2  -0.07]\n"
     ]
    }
   ],
   "source": [
    "print(f\"Upper Bound for Env Observation: {env.observation_space.high}\")\n",
    "print(f\"Lower Bound for Env Observation: {env.observation_space.low}\")"
   ]
  },
  {
   "cell_type": "markdown",
   "metadata": {},
   "source": [
    "Wrappers"
   ]
  },
  {
   "cell_type": "code",
   "execution_count": null,
   "metadata": {},
   "outputs": [],
   "source": [
    "env = gym.make(\"BreakoutNoFrameskip-v4\", render_mode='human')\n",
    "\n",
    "print(f\"Observation Space: {env.observation_space}\")\n",
    "print(f\"Action Space: {env.action_space}\")\n",
    "\n",
    "obs = env.reset()\n",
    "\n",
    "for i in range(100):\n",
    "    action = env.action_space.sample()\n",
    "    obs, reward, done, terminated, info = env.step(action)\n",
    "    env.render()\n",
    "    time.sleep(0.01)\n",
    "    if done:\n",
    "        env.reset()\n",
    "env.close()"
   ]
  },
  {
   "cell_type": "code",
   "execution_count": null,
   "metadata": {},
   "outputs": [],
   "source": [
    "from collections import deque\n",
    "from gym import spaces\n",
    "import numpy as np\n",
    "\n",
    "class ConcatObs(gym.Wrapper):\n",
    "    def __init__(self,env, k):\n",
    "        gym.Wrapper.__init__(self, env)\n",
    "        self.k = k\n",
    "        self.frames = deque([], maxlen=k)\n",
    "        shp = env.observation_space.shape\n",
    "        self.observation_space = spaces.Box(low=0, high=255, shape=((k,) + shp), dtype=env.observation_space.dtype)\n",
    "    \n",
    "    def reset(self):\n",
    "        ob, _ = self.env.reset()\n",
    "        for _ in range(self.k):\n",
    "            self.frames.append(ob)\n",
    "        return self._get_ob()\n",
    "    \n",
    "    \n",
    "    def step(self, action):\n",
    "        ob, reward, done, terminated, info = self.env.step(action)\n",
    "        self.frames.append(ob)\n",
    "        return self._get_ob(), reward, done, terminated, info\n",
    "    \n",
    "    def _get_ob(self):\n",
    "        return np.array(self.frames)"
   ]
  },
  {
   "cell_type": "code",
   "execution_count": null,
   "metadata": {},
   "outputs": [],
   "source": [
    "env = gym.make(\"BreakoutNoFrameskip-v4\")\n",
    "wrapped_env = ConcatObs(env, 4)\n",
    "print(f\"The new observation space is: {wrapped_env.observation_space}\")"
   ]
  },
  {
   "cell_type": "code",
   "execution_count": null,
   "metadata": {},
   "outputs": [],
   "source": [
    "obs = wrapped_env.reset()\n",
    "print(f\"Initial obs is of the shape: {obs.shape})\")\n",
    "\n",
    "obs, _, _, _, _ = wrapped_env.step(2)\n",
    "print(f\"Obs after taking a step is {obs.shape}\")"
   ]
  },
  {
   "cell_type": "markdown",
   "metadata": {},
   "source": [
    "Documentation Lookup"
   ]
  },
  {
   "cell_type": "code",
   "execution_count": null,
   "metadata": {},
   "outputs": [
    {
     "name": "stdout",
     "output_type": "stream",
     "text": [
      "Help on method reset in module gym.wrappers.time_limit:\n",
      "\n",
      "reset(**kwargs) method of gym.wrappers.time_limit.TimeLimit instance\n",
      "    Resets the environment with :param:`**kwargs` and sets the number of steps elapsed to zero.\n",
      "    \n",
      "    Args:\n",
      "        **kwargs: The kwargs to reset the environment with\n",
      "    \n",
      "    Returns:\n",
      "        The reset environment\n",
      "\n"
     ]
    }
   ],
   "source": [
    "help(env.reset)"
   ]
  },
  {
   "cell_type": "code",
   "execution_count": null,
   "metadata": {},
   "outputs": [
    {
     "name": "stdout",
     "output_type": "stream",
     "text": [
      "Help on method step in module gym.wrappers.time_limit:\n",
      "\n",
      "step(action) method of gym.wrappers.time_limit.TimeLimit instance\n",
      "    Steps through the environment and if the number of steps elapsed exceeds ``max_episode_steps`` then truncate.\n",
      "    \n",
      "    Args:\n",
      "        action: The environment step action\n",
      "    \n",
      "    Returns:\n",
      "        The environment step ``(observation, reward, terminated, truncated, info)`` with `truncated=True`\n",
      "        if the number of steps elapsed >= max episode steps\n",
      "\n"
     ]
    }
   ],
   "source": [
    "help(env.step)"
   ]
  },
  {
   "cell_type": "code",
   "execution_count": null,
   "metadata": {},
   "outputs": [],
   "source": []
  }
 ],
 "metadata": {
  "kernelspec": {
   "display_name": "Python 3 (ipykernel)",
   "language": "python",
   "name": "python3"
  },
  "language_info": {
   "codemirror_mode": {
    "name": "ipython",
    "version": 3
   },
   "file_extension": ".py",
   "mimetype": "text/x-python",
   "name": "python",
   "nbconvert_exporter": "python",
   "pygments_lexer": "ipython3",
   "version": "3.11.2"
  }
 },
 "nbformat": 4,
 "nbformat_minor": 4
}
