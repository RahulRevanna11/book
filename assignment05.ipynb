{
 "cells": [
  {
   "cell_type": "code",
   "execution_count": 25,
   "id": "2b43633d",
   "metadata": {},
   "outputs": [
    {
     "name": "stdout",
     "output_type": "stream",
     "text": [
      "Requirement already satisfied: nose in /opt/conda/lib/python3.10/site-packages (1.3.7)\n",
      "Note: you may need to restart the kernel to use updated packages.\n"
     ]
    }
   ],
   "source": [
    "pip install nose"
   ]
  },
  {
   "cell_type": "code",
   "execution_count": 26,
   "id": "c5f3f96d",
   "metadata": {
    "deletable": false,
    "editable": false,
    "nbgrader": {
     "cell_type": "code",
     "checksum": "a62d6604c181aa598c16f1dc4a0ef80f",
     "grade": false,
     "grade_id": "cell-1d1319dbdd2f95be",
     "locked": true,
     "schema_version": 3,
     "solution": false,
     "task": false
    }
   },
   "outputs": [],
   "source": [
    "#Perform logistic regression on diabetes dataset"
   ]
  },
  {
   "cell_type": "code",
   "execution_count": 27,
   "id": "250e1cd1",
   "metadata": {
    "deletable": false,
    "nbgrader": {
     "cell_type": "code",
     "checksum": "f5264282378aaac430ec943dc7100ccb",
     "grade": false,
     "grade_id": "cell-65901a02d7b3d454",
     "locked": false,
     "schema_version": 3,
     "solution": true,
     "task": false
    }
   },
   "outputs": [],
   "source": [
    "#Load diabetes dataset here and return shape of dataset\n",
    "from cz_utility import dataset\n",
    "# diabetes dataset\n",
    "df = dataset.load('63ea33b29ac5f900139b8d07')\n",
    "def returnShape(df):\n",
    "    # your code here\n",
    "    return df.shape\n",
    "    raise NotImplementedError"
   ]
  },
  {
   "cell_type": "code",
   "execution_count": 28,
   "id": "15628444",
   "metadata": {
    "deletable": false,
    "editable": false,
    "nbgrader": {
     "cell_type": "code",
     "checksum": "b3f09f2a823187359203f673d1b19162",
     "grade": true,
     "grade_id": "cell-9d4cd5b17d896c66",
     "locked": true,
     "points": 2,
     "schema_version": 3,
     "solution": false,
     "task": false
    }
   },
   "outputs": [],
   "source": [
    "from nose.tools import assert_equal\n",
    "assert_equal(returnShape(df), (768, 9))"
   ]
  },
  {
   "cell_type": "code",
   "execution_count": 29,
   "id": "c05044cf",
   "metadata": {},
   "outputs": [
    {
     "data": {
      "text/html": [
       "<div>\n",
       "<style scoped>\n",
       "    .dataframe tbody tr th:only-of-type {\n",
       "        vertical-align: middle;\n",
       "    }\n",
       "\n",
       "    .dataframe tbody tr th {\n",
       "        vertical-align: top;\n",
       "    }\n",
       "\n",
       "    .dataframe thead th {\n",
       "        text-align: right;\n",
       "    }\n",
       "</style>\n",
       "<table border=\"1\" class=\"dataframe\">\n",
       "  <thead>\n",
       "    <tr style=\"text-align: right;\">\n",
       "      <th></th>\n",
       "      <th>Pregnancies</th>\n",
       "      <th>Glucose</th>\n",
       "      <th>BloodPressure</th>\n",
       "      <th>SkinThickness</th>\n",
       "      <th>Insulin</th>\n",
       "      <th>BMI</th>\n",
       "      <th>DiabetesPedigreeFunction</th>\n",
       "      <th>Age</th>\n",
       "      <th>Outcome</th>\n",
       "    </tr>\n",
       "  </thead>\n",
       "  <tbody>\n",
       "    <tr>\n",
       "      <th>0</th>\n",
       "      <td>6</td>\n",
       "      <td>148</td>\n",
       "      <td>72</td>\n",
       "      <td>35</td>\n",
       "      <td>0</td>\n",
       "      <td>33.6</td>\n",
       "      <td>0.627</td>\n",
       "      <td>50</td>\n",
       "      <td>1</td>\n",
       "    </tr>\n",
       "    <tr>\n",
       "      <th>1</th>\n",
       "      <td>1</td>\n",
       "      <td>85</td>\n",
       "      <td>66</td>\n",
       "      <td>29</td>\n",
       "      <td>0</td>\n",
       "      <td>26.6</td>\n",
       "      <td>0.351</td>\n",
       "      <td>31</td>\n",
       "      <td>0</td>\n",
       "    </tr>\n",
       "    <tr>\n",
       "      <th>2</th>\n",
       "      <td>8</td>\n",
       "      <td>183</td>\n",
       "      <td>64</td>\n",
       "      <td>0</td>\n",
       "      <td>0</td>\n",
       "      <td>23.3</td>\n",
       "      <td>0.672</td>\n",
       "      <td>32</td>\n",
       "      <td>1</td>\n",
       "    </tr>\n",
       "    <tr>\n",
       "      <th>3</th>\n",
       "      <td>1</td>\n",
       "      <td>89</td>\n",
       "      <td>66</td>\n",
       "      <td>23</td>\n",
       "      <td>94</td>\n",
       "      <td>28.1</td>\n",
       "      <td>0.167</td>\n",
       "      <td>21</td>\n",
       "      <td>0</td>\n",
       "    </tr>\n",
       "    <tr>\n",
       "      <th>4</th>\n",
       "      <td>0</td>\n",
       "      <td>137</td>\n",
       "      <td>40</td>\n",
       "      <td>35</td>\n",
       "      <td>168</td>\n",
       "      <td>43.1</td>\n",
       "      <td>2.288</td>\n",
       "      <td>33</td>\n",
       "      <td>1</td>\n",
       "    </tr>\n",
       "    <tr>\n",
       "      <th>...</th>\n",
       "      <td>...</td>\n",
       "      <td>...</td>\n",
       "      <td>...</td>\n",
       "      <td>...</td>\n",
       "      <td>...</td>\n",
       "      <td>...</td>\n",
       "      <td>...</td>\n",
       "      <td>...</td>\n",
       "      <td>...</td>\n",
       "    </tr>\n",
       "    <tr>\n",
       "      <th>763</th>\n",
       "      <td>10</td>\n",
       "      <td>101</td>\n",
       "      <td>76</td>\n",
       "      <td>48</td>\n",
       "      <td>180</td>\n",
       "      <td>32.9</td>\n",
       "      <td>0.171</td>\n",
       "      <td>63</td>\n",
       "      <td>0</td>\n",
       "    </tr>\n",
       "    <tr>\n",
       "      <th>764</th>\n",
       "      <td>2</td>\n",
       "      <td>122</td>\n",
       "      <td>70</td>\n",
       "      <td>27</td>\n",
       "      <td>0</td>\n",
       "      <td>36.8</td>\n",
       "      <td>0.340</td>\n",
       "      <td>27</td>\n",
       "      <td>0</td>\n",
       "    </tr>\n",
       "    <tr>\n",
       "      <th>765</th>\n",
       "      <td>5</td>\n",
       "      <td>121</td>\n",
       "      <td>72</td>\n",
       "      <td>23</td>\n",
       "      <td>112</td>\n",
       "      <td>26.2</td>\n",
       "      <td>0.245</td>\n",
       "      <td>30</td>\n",
       "      <td>0</td>\n",
       "    </tr>\n",
       "    <tr>\n",
       "      <th>766</th>\n",
       "      <td>1</td>\n",
       "      <td>126</td>\n",
       "      <td>60</td>\n",
       "      <td>0</td>\n",
       "      <td>0</td>\n",
       "      <td>30.1</td>\n",
       "      <td>0.349</td>\n",
       "      <td>47</td>\n",
       "      <td>1</td>\n",
       "    </tr>\n",
       "    <tr>\n",
       "      <th>767</th>\n",
       "      <td>1</td>\n",
       "      <td>93</td>\n",
       "      <td>70</td>\n",
       "      <td>31</td>\n",
       "      <td>0</td>\n",
       "      <td>30.4</td>\n",
       "      <td>0.315</td>\n",
       "      <td>23</td>\n",
       "      <td>0</td>\n",
       "    </tr>\n",
       "  </tbody>\n",
       "</table>\n",
       "<p>768 rows × 9 columns</p>\n",
       "</div>"
      ],
      "text/plain": [
       "     Pregnancies  Glucose  BloodPressure  SkinThickness  Insulin   BMI  \\\n",
       "0              6      148             72             35        0  33.6   \n",
       "1              1       85             66             29        0  26.6   \n",
       "2              8      183             64              0        0  23.3   \n",
       "3              1       89             66             23       94  28.1   \n",
       "4              0      137             40             35      168  43.1   \n",
       "..           ...      ...            ...            ...      ...   ...   \n",
       "763           10      101             76             48      180  32.9   \n",
       "764            2      122             70             27        0  36.8   \n",
       "765            5      121             72             23      112  26.2   \n",
       "766            1      126             60              0        0  30.1   \n",
       "767            1       93             70             31        0  30.4   \n",
       "\n",
       "     DiabetesPedigreeFunction  Age  Outcome  \n",
       "0                       0.627   50        1  \n",
       "1                       0.351   31        0  \n",
       "2                       0.672   32        1  \n",
       "3                       0.167   21        0  \n",
       "4                       2.288   33        1  \n",
       "..                        ...  ...      ...  \n",
       "763                     0.171   63        0  \n",
       "764                     0.340   27        0  \n",
       "765                     0.245   30        0  \n",
       "766                     0.349   47        1  \n",
       "767                     0.315   23        0  \n",
       "\n",
       "[768 rows x 9 columns]"
      ]
     },
     "execution_count": 29,
     "metadata": {},
     "output_type": "execute_result"
    }
   ],
   "source": [
    "df"
   ]
  },
  {
   "cell_type": "code",
   "execution_count": 30,
   "id": "fce140e7",
   "metadata": {},
   "outputs": [
    {
     "name": "stdout",
     "output_type": "stream",
     "text": [
      "BloodPressure               0.065068\n",
      "SkinThickness               0.074752\n",
      "Insulin                     0.130548\n",
      "DiabetesPedigreeFunction    0.173844\n",
      "Pregnancies                 0.221898\n",
      "Age                         0.238356\n",
      "BMI                         0.292695\n",
      "Glucose                     0.466581\n",
      "Outcome                     1.000000\n",
      "Name: Outcome, dtype: float64\n",
      "Least correlated feature(s): Index(['BloodPressure'], dtype='object')\n"
     ]
    }
   ],
   "source": [
    "import pandas as pd\n",
    "import numpy as np\n",
    "\n",
    "# Calculate correlation coefficients between features and target variable\n",
    "correlation = df.corr()['Outcome'].abs().sort_values()\n",
    "\n",
    "# Display correlation coefficients\n",
    "print(correlation)\n",
    "\n",
    "# Get the feature(s) with the lowest correlation coefficient(s)\n",
    "least_correlated_features = correlation[correlation == correlation.min()].index\n",
    "\n",
    "# Display the least correlated feature(s)\n",
    "print(\"Least correlated feature(s):\", least_correlated_features)\n"
   ]
  },
  {
   "cell_type": "code",
   "execution_count": 31,
   "id": "91ea7fd3",
   "metadata": {
    "deletable": false,
    "nbgrader": {
     "cell_type": "code",
     "checksum": "569a0196f50fd0d4b33bcee7e91c5140",
     "grade": false,
     "grade_id": "cell-97b7b8d9c24aa579",
     "locked": false,
     "schema_version": 3,
     "solution": true,
     "task": false
    }
   },
   "outputs": [],
   "source": [
    "#separate input and output from dataset and remove unwanted data columns\n",
    "#take x for input and y for output\n",
    "def sepAndRemove(df):\n",
    "    # your code here\n",
    "    x = df.drop(columns=['Outcome','BloodPressure'])\n",
    "    y = df['Outcome']\n",
    "    return x, y\n",
    "    raise NotImplementedError"
   ]
  },
  {
   "cell_type": "code",
   "execution_count": 32,
   "id": "15efccc9",
   "metadata": {
    "deletable": false,
    "editable": false,
    "nbgrader": {
     "cell_type": "code",
     "checksum": "492e3df2e6c0c63b64800df4d7abbb79",
     "grade": true,
     "grade_id": "cell-f7e39f11fcd55f39",
     "locked": true,
     "points": 2,
     "schema_version": 3,
     "solution": false,
     "task": false
    }
   },
   "outputs": [],
   "source": [
    "trainAndTestData = sepAndRemove(df)\n",
    "assert_equal(trainAndTestData[0].shape, (768, 7))\n",
    "assert_equal(trainAndTestData[1].shape, (768,))"
   ]
  },
  {
   "cell_type": "code",
   "execution_count": 33,
   "id": "01905e37",
   "metadata": {},
   "outputs": [
    {
     "data": {
      "text/plain": [
       "(768, 7)"
      ]
     },
     "execution_count": 33,
     "metadata": {},
     "output_type": "execute_result"
    }
   ],
   "source": [
    "trainAndTestData[0].shape"
   ]
  },
  {
   "cell_type": "code",
   "execution_count": 34,
   "id": "0e726013",
   "metadata": {},
   "outputs": [
    {
     "data": {
      "text/plain": [
       "0      1\n",
       "1      0\n",
       "2      1\n",
       "3      0\n",
       "4      1\n",
       "      ..\n",
       "763    0\n",
       "764    0\n",
       "765    0\n",
       "766    1\n",
       "767    0\n",
       "Name: Outcome, Length: 768, dtype: int64"
      ]
     },
     "execution_count": 34,
     "metadata": {},
     "output_type": "execute_result"
    }
   ],
   "source": [
    "trainAndTestData[1]"
   ]
  },
  {
   "cell_type": "code",
   "execution_count": 35,
   "id": "3467daff",
   "metadata": {
    "deletable": false,
    "nbgrader": {
     "cell_type": "code",
     "checksum": "252a797e9b54c6e5c0aaed313c649f16",
     "grade": false,
     "grade_id": "cell-05c4eb3e485c557a",
     "locked": false,
     "schema_version": 3,
     "solution": true,
     "task": false
    }
   },
   "outputs": [],
   "source": [
    "#separate training and testing dataset with test_size = 0.3\n",
    "from sklearn.model_selection import train_test_split\n",
    "def trainTestSplit(trainAndTestData):\n",
    "    # your code here\n",
    "    train_x, test_x, train_y, test_y = train_test_split(trainAndTestData[0], trainAndTestData[1], test_size=0.3,random_state=42)\n",
    "    return train_x, test_x, train_y, test_y\n",
    "    raise NotImplementedError"
   ]
  },
  {
   "cell_type": "code",
   "execution_count": null,
   "id": "ad7f6660",
   "metadata": {},
   "outputs": [],
   "source": []
  },
  {
   "cell_type": "code",
   "execution_count": 36,
   "id": "18871bfa",
   "metadata": {
    "deletable": false,
    "editable": false,
    "nbgrader": {
     "cell_type": "code",
     "checksum": "a561c858e31196cdedf5317084b50ecf",
     "grade": true,
     "grade_id": "cell-a7a6e742dbef0d20",
     "locked": true,
     "points": 2,
     "schema_version": 3,
     "solution": false,
     "task": false
    }
   },
   "outputs": [],
   "source": [
    "trainAndTestData=trainTestSplit(sepAndRemove(df))\n",
    "assert_equal(trainAndTestData[0].shape,(537, 7))\n",
    "assert_equal(trainAndTestData[1].shape,(231, 7))\n",
    "assert_equal(trainAndTestData[2].shape,(537,))\n",
    "assert_equal(trainAndTestData[3].shape,(231,))"
   ]
  },
  {
   "cell_type": "code",
   "execution_count": 37,
   "id": "b39d917d",
   "metadata": {},
   "outputs": [
    {
     "data": {
      "text/plain": [
       "(537, 7)"
      ]
     },
     "execution_count": 37,
     "metadata": {},
     "output_type": "execute_result"
    }
   ],
   "source": [
    "trainAndTestData[0].shape"
   ]
  },
  {
   "cell_type": "code",
   "execution_count": 38,
   "id": "469b229e",
   "metadata": {},
   "outputs": [
    {
     "data": {
      "text/plain": [
       "(231, 7)"
      ]
     },
     "execution_count": 38,
     "metadata": {},
     "output_type": "execute_result"
    }
   ],
   "source": [
    "trainAndTestData[1].shape"
   ]
  },
  {
   "cell_type": "code",
   "execution_count": 39,
   "id": "db3423cd",
   "metadata": {},
   "outputs": [
    {
     "data": {
      "text/plain": [
       "(537,)"
      ]
     },
     "execution_count": 39,
     "metadata": {},
     "output_type": "execute_result"
    }
   ],
   "source": [
    "trainAndTestData[2].shape"
   ]
  },
  {
   "cell_type": "code",
   "execution_count": 40,
   "id": "80ebd96a",
   "metadata": {},
   "outputs": [
    {
     "data": {
      "text/plain": [
       "(231,)"
      ]
     },
     "execution_count": 40,
     "metadata": {},
     "output_type": "execute_result"
    }
   ],
   "source": [
    "trainAndTestData[3].shape"
   ]
  },
  {
   "cell_type": "code",
   "execution_count": 47,
   "id": "319f4f4b",
   "metadata": {
    "deletable": false,
    "nbgrader": {
     "cell_type": "code",
     "checksum": "fd082ff6def2bc0db36d47997123ab1f",
     "grade": false,
     "grade_id": "cell-6e973aeb54f8a469",
     "locked": false,
     "schema_version": 3,
     "solution": true,
     "task": false
    }
   },
   "outputs": [],
   "source": [
    "#use MinMaxScaler to scale the data to a fixed range\n",
    "from sklearn.preprocessing import MinMaxScaler\n",
    "def scalar(trainAndTestData):\n",
    "    # your code here\n",
    "    scl = MinMaxScaler()\n",
    "    trainX_scaled = scl.fit_transform(trainAndTestData[0])\n",
    "    testX_scaled = scl.transform(trainAndTestData[1])\n",
    "    return trainX_scaled, testX_scaled, trainAndTestData[2], trainAndTestData[3]\n",
    "    raise NotImplementedError"
   ]
  },
  {
   "cell_type": "code",
   "execution_count": 48,
   "id": "333e31a4",
   "metadata": {
    "deletable": false,
    "editable": false,
    "nbgrader": {
     "cell_type": "code",
     "checksum": "f8211d2c061947d69ad2722e042c9ae4",
     "grade": true,
     "grade_id": "cell-0bb62bf101293688",
     "locked": true,
     "points": 2,
     "schema_version": 3,
     "solution": false,
     "task": false
    }
   },
   "outputs": [],
   "source": [
    "trainAndTestData=scalar(trainTestSplit(sepAndRemove(df)))\n",
    "assert_equal(trainAndTestData[0].shape, (537, 7))\n",
    "assert_equal(trainAndTestData[1].shape, (231, 7))\n"
   ]
  },
  {
   "cell_type": "code",
   "execution_count": 56,
   "id": "191880d2",
   "metadata": {},
   "outputs": [
    {
     "data": {
      "text/plain": [
       "array([[0.05882353, 0.47738693, 0.28571429, ..., 0.3561848 , 0.07771136,\n",
       "        0.01666667],\n",
       "       [0.29411765, 0.52763819, 0.46031746, ..., 0.54992548, 0.03458582,\n",
       "        0.11666667],\n",
       "       [0.        , 0.67839196, 0.66666667, ..., 0.63040238, 0.12254483,\n",
       "        0.05      ],\n",
       "       ...,\n",
       "       [0.58823529, 0.50753769, 0.58730159, ..., 0.67958271, 0.45175064,\n",
       "        0.28333333],\n",
       "       [0.        , 0.70854271, 0.        , ..., 0.6318927 , 0.05422716,\n",
       "        0.13333333],\n",
       "       [0.        , 0.6281407 , 0.        , ..., 0.33532042, 0.07856533,\n",
       "        0.        ]])"
      ]
     },
     "execution_count": 56,
     "metadata": {},
     "output_type": "execute_result"
    }
   ],
   "source": [
    "# trainAndTestData[0].shape\n",
    "\n",
    "trainAndTestData[0]"
   ]
  },
  {
   "cell_type": "code",
   "execution_count": 57,
   "id": "71c1fd00",
   "metadata": {},
   "outputs": [
    {
     "data": {
      "text/plain": [
       "array([[0.35294118, 0.49246231, 0.52380952, ..., 0.50670641, 0.15029889,\n",
       "        0.36666667],\n",
       "       [0.11764706, 0.56281407, 0.50793651, ..., 0.53204173, 0.02988898,\n",
       "        0.        ],\n",
       "       [0.11764706, 0.54271357, 0.        , ..., 0.45901639, 0.03415884,\n",
       "        0.        ],\n",
       "       ...,\n",
       "       [0.        , 0.63819095, 0.58730159, ..., 0.54098361, 0.30999146,\n",
       "        0.03333333],\n",
       "       [0.35294118, 0.52763819, 0.50793651, ..., 0.45901639, 0.01878736,\n",
       "        0.26666667],\n",
       "       [0.29411765, 0.38693467, 0.65079365, ..., 0.53353204, 0.03330487,\n",
       "        0.23333333]])"
      ]
     },
     "execution_count": 57,
     "metadata": {},
     "output_type": "execute_result"
    }
   ],
   "source": [
    "# trainAndTestData[1].shape\n",
    "\n",
    "\n",
    "trainAndTestData[1]"
   ]
  },
  {
   "cell_type": "code",
   "execution_count": 52,
   "id": "91d5d671",
   "metadata": {},
   "outputs": [
    {
     "data": {
      "text/plain": [
       "(537,)"
      ]
     },
     "execution_count": 52,
     "metadata": {},
     "output_type": "execute_result"
    }
   ],
   "source": [
    "trainAndTestData[2].shape"
   ]
  },
  {
   "cell_type": "code",
   "execution_count": 51,
   "id": "de89f6d0",
   "metadata": {},
   "outputs": [
    {
     "data": {
      "text/plain": [
       "(231,)"
      ]
     },
     "execution_count": 51,
     "metadata": {},
     "output_type": "execute_result"
    }
   ],
   "source": [
    "trainAndTestData[3].shape"
   ]
  },
  {
   "cell_type": "code",
   "execution_count": 60,
   "id": "84cfa19f",
   "metadata": {
    "deletable": false,
    "nbgrader": {
     "cell_type": "code",
     "checksum": "a2e39a60c929249f50876230089f3fb1",
     "grade": false,
     "grade_id": "cell-a9178e0adf01003e",
     "locked": false,
     "schema_version": 3,
     "solution": true,
     "task": false
    }
   },
   "outputs": [],
   "source": [
    "#perform logistic regression here and return accuracy between predected output for testx and testy\n",
    "from sklearn.linear_model import LogisticRegression\n",
    "from sklearn.metrics import accuracy_score\n",
    "def logisticReg(trainAndTestData, trainy, testy):\n",
    "    # your code here\n",
    "    model = LogisticRegression()\n",
    "    model.fit(trainAndTestData[0], trainy)\n",
    "    pred_y = model.predict(trainAndTestData[1])\n",
    "    accuracy = accuracy_score(testy, pred_y)\n",
    "    print(accuracy)\n",
    "    return accuracy\n",
    "    raise NotImplementedError"
   ]
  },
  {
   "cell_type": "code",
   "execution_count": 61,
   "id": "619604ef",
   "metadata": {
    "deletable": false,
    "editable": false,
    "nbgrader": {
     "cell_type": "code",
     "checksum": "2573517c941b653e38b6b9d40b43679a",
     "grade": true,
     "grade_id": "cell-b26830e8ae1d3a06",
     "locked": true,
     "points": 2,
     "schema_version": 3,
     "solution": false,
     "task": false
    }
   },
   "outputs": [
    {
     "name": "stdout",
     "output_type": "stream",
     "text": [
      "0.7489177489177489\n"
     ]
    }
   ],
   "source": [
    "#there might be difference between student answer and faculty answer\n",
    "trainAndTestData1 = trainTestSplit(sepAndRemove(df))\n",
    "accuracyScore = logisticReg(scalar(trainTestSplit(sepAndRemove(df))), trainAndTestData1[2], trainAndTestData1[3])\n",
    "assert_equal(accuracyScore>0.60, True)"
   ]
  },
  {
   "cell_type": "code",
   "execution_count": null,
   "id": "28716e34",
   "metadata": {},
   "outputs": [],
   "source": []
  }
 ],
 "metadata": {
  "kernelspec": {
   "display_name": "Python 3 (ipykernel)",
   "language": "python",
   "name": "python3"
  },
  "language_info": {
   "codemirror_mode": {
    "name": "ipython",
    "version": 3
   },
   "file_extension": ".py",
   "mimetype": "text/x-python",
   "name": "python",
   "nbconvert_exporter": "python",
   "pygments_lexer": "ipython3",
   "version": "3.10.11"
  }
 },
 "nbformat": 4,
 "nbformat_minor": 5
}
